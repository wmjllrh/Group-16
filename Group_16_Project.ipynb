{
  "nbformat": 4,
  "nbformat_minor": 0,
  "metadata": {
    "colab": {
      "provenance": [],
      "collapsed_sections": [
        "u0I1mzwrwun7",
        "zbxQBBfx2TX4",
        "Cj7tIdvM8jtU",
        "wlulewaf0UrB",
        "X8KzIrmb0u45",
        "t3xYzzWN091p",
        "sq-k9j221IQV",
        "_FpdUvn47X_4",
        "6aB0NtC2mSx9",
        "R8nrO3q51LrV",
        "Yz0QEnLVdc8Z",
        "FRFcRjlJqYfL"
      ],
      "authorship_tag": "ABX9TyPGfQWQhDl2MeJLX4mKlRAU",
      "include_colab_link": true
    },
    "kernelspec": {
      "name": "python3",
      "display_name": "Python 3"
    },
    "language_info": {
      "name": "python"
    }
  },
  "cells": [
    {
      "cell_type": "markdown",
      "metadata": {
        "id": "view-in-github",
        "colab_type": "text"
      },
      "source": [
        "<a href=\"https://colab.research.google.com/github/wmjllrh/Group-16/blob/main/Group_16_Project.ipynb\" target=\"_parent\"><img src=\"https://colab.research.google.com/assets/colab-badge.svg\" alt=\"Open In Colab\"/></a>"
      ]
    },
    {
      "cell_type": "markdown",
      "source": [
        "# Set-up (Libraries, Importing Data, Cleaning Data)"
      ],
      "metadata": {
        "id": "u0I1mzwrwun7"
      }
    },
    {
      "cell_type": "markdown",
      "source": [
        "###Importing libraries"
      ],
      "metadata": {
        "id": "zbxQBBfx2TX4"
      }
    },
    {
      "cell_type": "code",
      "source": [
        "# Imporing libraries\n",
        "import matplotlib.pyplot as plt\n",
        "from matplotlib.pyplot import figure\n",
        "import pandas as pd\n",
        "import numpy as np\n",
        "from datetime import datetime\n",
        "import random\n",
        "%matplotlib inline"
      ],
      "metadata": {
        "id": "jbmu6eYly_Mz"
      },
      "execution_count": null,
      "outputs": []
    },
    {
      "cell_type": "markdown",
      "source": [
        "###Importing datasets"
      ],
      "metadata": {
        "id": "Cj7tIdvM8jtU"
      }
    },
    {
      "cell_type": "code",
      "execution_count": null,
      "metadata": {
        "id": "YQFTkexhwuGV"
      },
      "outputs": [],
      "source": [
        "# 'Gun Violence Archive' data (for each month of 2021)\n",
        "jan = pd.read_csv('https://raw.githubusercontent.com/wmjllrh/Group-16/main/JAN_2021.csv', encoding = 'latin1')\n",
        "feb = pd.read_csv('https://raw.githubusercontent.com/wmjllrh/Group-16/main/FEB_2021.csv', encoding = 'latin1')\n",
        "mar = pd.read_csv('https://raw.githubusercontent.com/wmjllrh/Group-16/main/MAR_2021.csv', encoding = 'latin1')\n",
        "apr = pd.read_csv('https://raw.githubusercontent.com/wmjllrh/Group-16/main/APR_2021.csv', encoding = 'latin1')\n",
        "may = pd.read_csv('https://raw.githubusercontent.com/wmjllrh/Group-16/main/MAY_2021.csv', encoding = 'latin1')\n",
        "jun = pd.read_csv('https://raw.githubusercontent.com/wmjllrh/Group-16/main/JUN_2021.csv', encoding = 'latin1')\n",
        "jul = pd.read_csv('https://raw.githubusercontent.com/wmjllrh/Group-16/main/JUL_2021.csv', encoding = 'latin1')\n",
        "aug = pd.read_csv('https://raw.githubusercontent.com/wmjllrh/Group-16/main/AUG_2021.csv', encoding = 'latin1')\n",
        "sep = pd.read_csv('https://raw.githubusercontent.com/wmjllrh/Group-16/main/SEPT_2021.csv', encoding = 'latin1')\n",
        "oct = pd.read_csv('https://raw.githubusercontent.com/wmjllrh/Group-16/main/OCT_2021.csv', encoding = 'latin1')\n",
        "nov = pd.read_csv('https://raw.githubusercontent.com/wmjllrh/Group-16/main/NOV_2021.csv', encoding = 'latin1')\n",
        "dec = pd.read_csv('https://raw.githubusercontent.com/wmjllrh/Group-16/main/DEC_2021.csv', encoding = 'latin1')"
      ]
    },
    {
      "cell_type": "code",
      "source": [
        "# US Census population estimates data (2020-2021)\n",
        "pop = pd.read_csv ('https://raw.githubusercontent.com/wmjllrh/Group-16/main/US_POP_20_21.csv', encoding = 'latin1')"
      ],
      "metadata": {
        "id": "bv5Daqy8zlR_"
      },
      "execution_count": null,
      "outputs": []
    },
    {
      "cell_type": "code",
      "source": [
        "# US decennial ethnicity census data [2020: DEC Redistricting Data (PL94-171)]\n",
        "eth = pd.read_csv ('https://raw.githubusercontent.com/wmjllrh/Group-16/main/DECENNIALPL2020.P1-2022-10-27T094912.csv', encoding = 'latin1', skipinitialspace = True)"
      ],
      "metadata": {
        "id": "mncbWj-JBQZo"
      },
      "execution_count": null,
      "outputs": []
    },
    {
      "cell_type": "code",
      "source": [
        "# County Presidential Election Returns 2000-2020 (MIT Election Data and Science Lab, 2018)\n",
        "election_data = pd.read_csv('https://raw.githubusercontent.com/wmjllrh/Group-16/main/countypres_2000-2020.csv', encoding = 'latin1')"
      ],
      "metadata": {
        "id": "tLX4GsCaS171"
      },
      "execution_count": null,
      "outputs": []
    },
    {
      "cell_type": "code",
      "source": [
        "# American Community Survey 2020 5-Year Estimates - Income in the past 12 months (IN 2020 INFLATION-ADJUSTED DOLLARS)\n",
        "income_data = pd.read_csv('https://raw.githubusercontent.com/wmjllrh/Group-16/main/ACS%202020%20Income%20Data.csv', encoding = 'latin1')"
      ],
      "metadata": {
        "id": "oVKQwrLW6r5t"
      },
      "execution_count": null,
      "outputs": []
    },
    {
      "cell_type": "code",
      "source": [
        "# Scraping state abbreviations\n",
        "abbreviations = pd.read_html('https://www.ssa.gov/international/coc-docs/states.html')[0]"
      ],
      "metadata": {
        "id": "qqViylYemHLh"
      },
      "execution_count": null,
      "outputs": []
    },
    {
      "cell_type": "markdown",
      "source": [
        "###Cleaning and joining datasets"
      ],
      "metadata": {
        "id": "AYaliqDp9RIM"
      }
    },
    {
      "cell_type": "markdown",
      "source": [
        "####Election data (2020)"
      ],
      "metadata": {
        "id": "wlulewaf0UrB"
      }
    },
    {
      "cell_type": "code",
      "source": [
        "# Removing all years bar 2020\n",
        "election_data.drop(election_data[election_data['year'] != 2020].index, inplace = True)\n",
        "\n",
        "# Removing unnecessary columns\n",
        "election_data = election_data.drop (columns = [election_data.columns[2], election_data.columns[4], election_data.columns[5], \n",
        "                                               election_data.columns[6], election_data.columns[10], election_data.columns[11]])\n",
        "\n",
        "# Converting 'party' row to column headers\n",
        "ed = election_data.pivot_table('candidatevotes', ['year', 'state', 'county_name', 'totalvotes'], 'party', aggfunc = 'sum')\n",
        "\n",
        "# Collapsing rows (so that each row represents a state)\n",
        "ed = ed.groupby('state').sum()\n",
        "\n",
        "# Re-creating a 'total votes' column\n",
        "ed['total_votes'] = ed['DEMOCRAT'] + ed['GREEN'] + ed['LIBERTARIAN'] + ed['OTHER'] + ed['REPUBLICAN']\n",
        "\n",
        "# Creating percentage vote columns (so results are standardised and comparable)\n",
        "ed['democrat_pct_2020'] = ed.DEMOCRAT / ed.total_votes * 100\n",
        "ed['green_pct_2020'] = ed.GREEN / ed.total_votes * 100\n",
        "ed['libertarian_pct_2020'] = ed.LIBERTARIAN / ed.total_votes * 100\n",
        "ed['other_pct_2020'] = ed.OTHER / ed.total_votes * 100\n",
        "ed['republican_pct_2020'] = ed.REPUBLICAN / ed.total_votes * 100\n",
        "\n",
        "# Retaining only the newly created columns\n",
        "ed = ed.iloc[:, 6:11]\n",
        "\n",
        "# Re-ordering columns\n",
        "ed = ed[['republican_pct_2020', 'democrat_pct_2020','green_pct_2020','libertarian_pct_2020','other_pct_2020']]"
      ],
      "metadata": {
        "id": "rPDJy_bMYy86"
      },
      "execution_count": null,
      "outputs": []
    },
    {
      "cell_type": "markdown",
      "source": [
        "####Gun Violence Archive data (2021)"
      ],
      "metadata": {
        "id": "X8KzIrmb0u45"
      }
    },
    {
      "cell_type": "code",
      "source": [
        "# Joining GVA data\n",
        "gva_data = pd.concat ([jan,feb,mar,apr,may,jun,jul,aug,sep,oct,nov,dec], ignore_index = True)\n",
        "\n",
        "# Grouping GVA data by state, then summing the number of mortalities by firearms in each.\n",
        "gva_data = gva_data.groupby ('State') ['# Killed'].sum().reset_index()\n",
        "\n",
        "# Renaming the '# Killed' column and 'State' column\n",
        "gva_data.rename (columns = {'# Killed':'deaths_2021', 'State':'state'}, inplace = True)\n",
        "\n",
        "# Setting 'state' as the index\n",
        "gva_data = gva_data.set_index('state')"
      ],
      "metadata": {
        "id": "iXQLQSOK7Hdn"
      },
      "execution_count": null,
      "outputs": []
    },
    {
      "cell_type": "markdown",
      "source": [
        "####US Census population estimates data (2021)"
      ],
      "metadata": {
        "id": "t3xYzzWN091p"
      }
    },
    {
      "cell_type": "code",
      "source": [
        "# Renaming US Census population estimates 'state' and the 2021 population estimate column\n",
        "pop.rename (columns = {pop.columns[0]: \"state\", pop.columns[3]: \"population_2021\"}, inplace = True)\n",
        "\n",
        "# Removing 2020 population estimates columns. For our analyses, we will use 2021 population estimates.\n",
        "pop = pop.drop (columns = [pop.columns[1], pop.columns[2]])\n",
        "\n",
        "# Setting 'state' as the index\n",
        "pop = pop.set_index('state')"
      ],
      "metadata": {
        "id": "c_VmKlUhPNkP"
      },
      "execution_count": null,
      "outputs": []
    },
    {
      "cell_type": "markdown",
      "source": [
        "####US decennial ethnicity census data [2020: DEC Redistricting Data (PL94-171)]"
      ],
      "metadata": {
        "id": "sq-k9j221IQV"
      }
    },
    {
      "cell_type": "code",
      "source": [
        "# Renaming columns\n",
        "eth.rename (columns =\n",
        "            {eth.columns[0]: \"state\", eth.columns[1]: \"total\", eth.columns[3]:\n",
        "             \"white_pop\"},\n",
        "            inplace = True)\n",
        "\n",
        "# Shift state column rows down by ONE\n",
        "eth.loc[:, 'state'] = eth.state.shift(+1)\n",
        "\n",
        "# Removing ethnicity data rows with NaN values and removing commas\n",
        "eth = eth.dropna()\n",
        "eth = eth.replace(',','', regex = True)\n",
        "\n",
        "# Retaining only state, white pop and total columns\n",
        "eth = eth[['state', 'white_pop', 'total']]\n",
        "\n",
        "# Setting 'state' as the index\n",
        "eth = eth.set_index('state')\n",
        "\n",
        "# Converting remaining columns to numeric\n",
        "eth = eth.apply(pd.to_numeric)\n",
        "\n",
        "# Creating a % white column\n",
        "eth['white_pct_2020'] = eth.white_pop / eth.total * 100\n",
        "\n",
        "# Dropping unnecessary columns\n",
        "eth = eth.drop (columns = [eth.columns[0], eth.columns[1]])"
      ],
      "metadata": {
        "id": "wqvy12ZJupeh"
      },
      "execution_count": null,
      "outputs": []
    },
    {
      "cell_type": "markdown",
      "source": [
        "####American Community Survey 2020 5-Year Estimates - Income in the past 12 months (IN 2020 INFLATION-ADJUSTED DOLLARS)"
      ],
      "metadata": {
        "id": "_FpdUvn47X_4"
      }
    },
    {
      "cell_type": "code",
      "source": [
        "# Renaming columns of interest\n",
        "income_data.rename (columns =\n",
        "            {income_data.columns[0]: \"state\", income_data.columns[2]: \"household_less_than_10k\", income_data.columns[11]:\n",
        "             \"household_200k_or_more\", income_data.columns[12]: \"median_household_income\"},\n",
        "            inplace = True)\n",
        "\n",
        "# Shift state column rows down by TWO\n",
        "income_data.loc[:, 'state'] = income_data.state.shift(+2)\n",
        "\n",
        "# Retaining only columns of interest\n",
        "income_data = income_data[['state', 'household_less_than_10k', 'household_200k_or_more', 'median_household_income']]\n",
        "\n",
        "# Removing data rows with NaN values and removing commas\n",
        "income_data = income_data.dropna()\n",
        "income_data = income_data.replace(',','', regex = True)\n",
        "\n",
        "# Converting percentage strings to numeric\n",
        "income_data['household_less_than_10k'] = income_data['household_less_than_10k'].str.rstrip(\"%\").astype(float)\n",
        "income_data['household_200k_or_more'] = income_data['household_200k_or_more'].str.rstrip(\"%\").astype(float)\n",
        "\n",
        "# Setting 'state' as the index\n",
        "income_data = income_data.set_index('state')\n",
        "\n",
        "# Converting remaining columns to numeric\n",
        "income_data = income_data.apply(pd.to_numeric)\n",
        "\n",
        "# Making the index uppercase to match our combine dataframe\n",
        "income_data.index = income_data.index.str.upper()"
      ],
      "metadata": {
        "id": "w3HeX1lw7fMD"
      },
      "execution_count": null,
      "outputs": []
    },
    {
      "cell_type": "markdown",
      "source": [
        "####State abbreviations"
      ],
      "metadata": {
        "id": "6aB0NtC2mSx9"
      }
    },
    {
      "cell_type": "code",
      "source": [
        "# Renaming columns\n",
        "abbreviations.rename (columns =\n",
        "            {abbreviations.columns[0]: \"state\", abbreviations.columns[1]: \"code\"},\n",
        "            inplace = True)\n",
        "\n",
        "# Setting 'state' as the index\n",
        "abbreviations = abbreviations.set_index('state')"
      ],
      "metadata": {
        "id": "cciMstEcmW3Y"
      },
      "execution_count": null,
      "outputs": []
    },
    {
      "cell_type": "markdown",
      "source": [
        "####Combined data"
      ],
      "metadata": {
        "id": "4ZEmbAOM1br1"
      }
    },
    {
      "cell_type": "code",
      "source": [
        "# Left joining the GVA and Census datasets (keeping only the index values of 'gva_data')\n",
        "df = gva_data.merge (pop, left_index = True, right_index = True, how = 'left')\n",
        "\n",
        "# Removing commas from the dataframe and converting the 'population_2021' column to numeric\n",
        "df = df.replace(',','', regex = True)\n",
        "df[\"population_2021\"] = pd.to_numeric(df[\"population_2021\"])\n",
        "\n",
        "# Standardising firearms mortalities to allow comparison across states \n",
        "## [creating a 'rate of firearms-related mortalties per 100,000 people' column]\n",
        "df['deaths_per_100k'] = df.deaths_2021 / df.population_2021 * 100000\n",
        "\n",
        "# Removing unnecessary 'population' and 'mortality' columns\n",
        "df = df.drop (columns = [df.columns[0], df.columns[1]])\n",
        "\n",
        "# Merging ethnicity data\n",
        "df = df.merge (eth, left_index = True, right_index = True, how = 'left')\n",
        "\n",
        "# Making the index uppercase, so we may join the election data\n",
        "df.index = df.index.str.upper()\n",
        "\n",
        "# Merging 2020 election data\n",
        "df = df.merge (ed, left_index = True, right_index = True, how = 'left')\n",
        "\n",
        "# Merging 2020 ACS income estimates data\n",
        "df = df.merge (income_data, left_index = True, right_index = True, how = 'left')\n",
        "\n",
        "# Merging state abbreviations\n",
        "df = df.merge (abbreviations, left_index = True, right_index = True, how = 'left')"
      ],
      "metadata": {
        "id": "wplV6KGJSo_r"
      },
      "execution_count": null,
      "outputs": []
    },
    {
      "cell_type": "markdown",
      "source": [
        "#Statistical analyses"
      ],
      "metadata": {
        "id": "R8nrO3q51LrV"
      }
    },
    {
      "cell_type": "markdown",
      "source": [
        "##Checking regression assumptions"
      ],
      "metadata": {
        "id": "wnpX06xp19Ua"
      }
    },
    {
      "cell_type": "markdown",
      "source": [
        "##Linear regression"
      ],
      "metadata": {
        "id": "REP3_pCZ1fiX"
      }
    },
    {
      "cell_type": "markdown",
      "source": [
        "##Multiple regression"
      ],
      "metadata": {
        "id": "a1BzR4nS1i_-"
      }
    },
    {
      "cell_type": "markdown",
      "source": [
        "#Visualisations"
      ],
      "metadata": {
        "id": "Yz0QEnLVdc8Z"
      }
    },
    {
      "cell_type": "markdown",
      "source": [
        "##Scatterplots"
      ],
      "metadata": {
        "id": "LoJnwCVJ1Y7x"
      }
    },
    {
      "cell_type": "markdown",
      "source": [
        "##Box plots"
      ],
      "metadata": {
        "id": "_YobOtCZ1cIb"
      }
    },
    {
      "cell_type": "markdown",
      "source": [
        "##Choropleth maps"
      ],
      "metadata": {
        "id": "d3fBniFF14aE"
      }
    },
    {
      "cell_type": "markdown",
      "source": [
        "####Messing around with choropleth maps"
      ],
      "metadata": {
        "id": "FRFcRjlJqYfL"
      }
    },
    {
      "cell_type": "code",
      "source": [
        "# code for creating choropleth map of USA states\n",
        "# import plotly library\n",
        "import plotly\n",
        " \n",
        "# import plotly.express module\n",
        "# this module is used to create entire figures at once\n",
        "import plotly.express as px\n",
        " \n",
        "# create figure\n",
        "fig = px.choropleth(locationmode=\"USA-states\", color=[1], scope=\"usa\")\n",
        " \n",
        "fig.show()"
      ],
      "metadata": {
        "id": "ejA2IqUwhXHE"
      },
      "execution_count": null,
      "outputs": []
    },
    {
      "cell_type": "code",
      "source": [
        "#code for representing states of USA\n",
        "#pass list of states in locations\n",
        "#list will have two-letter abbreviations of states\n",
        "fig = px.choropleth(df, locations='code', locationmode=\"USA-states\", color='deaths_per_100k', scope=\"usa\")\n",
        "fig.update_layout(geo = dict(showlakes=False))\n",
        " \n",
        "fig.show()"
      ],
      "metadata": {
        "id": "mUQC7WcQhr4d"
      },
      "execution_count": null,
      "outputs": []
    }
  ]
}